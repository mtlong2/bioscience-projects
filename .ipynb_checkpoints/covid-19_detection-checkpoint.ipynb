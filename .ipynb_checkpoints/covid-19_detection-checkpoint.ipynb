{
 "cells": [
  {
   "cell_type": "code",
   "execution_count": null,
   "metadata": {},
   "outputs": [],
   "source": [
    "from fastai.vision.all import *\n",
    "from fastai.metrics import error_rate, accuracy\n",
    "from pathlib import Path\n",
    "import pandas as pd, numpy as np\n",
    "\n",
    "import warnings\n",
    "warnings.filterwarnings('ignore')\n",
    "matplotlib.rc('image', cmap='Greys')"
   ]
  },
  {
   "cell_type": "code",
   "execution_count": null,
   "metadata": {},
   "outputs": [],
   "source": [
    "path_covid = Path('/home/jupyter/.fastai/data/covid_train')"
   ]
  },
  {
   "cell_type": "code",
   "execution_count": null,
   "metadata": {},
   "outputs": [],
   "source": [
    "path_pneu = Path('/home/jupyter/.fastai/data/chest_xray')\n",
    "bs = 64"
   ]
  },
  {
   "cell_type": "code",
   "execution_count": null,
   "metadata": {},
   "outputs": [],
   "source": [
    "# create a dataloader for pneumonia data\n",
    "dls_pneu = ImageDataLoaders.from_folder(path_pneu, train='train', valid='test', seed=42, shuffle_train=True,\n",
    "                                       item_tfms=Resize(224, method='squish'), bs=bs,\n",
    "                                       batch_tfms=[*aug_transforms(do_flip=True, flip_vert=True,\n",
    "                                                                  mult=2.0),Normalize.from_stats(*imagenet_stats)])"
   ]
  },
  {
   "cell_type": "code",
   "execution_count": null,
   "metadata": {},
   "outputs": [],
   "source": [
    "# create dataloader for covid data - ORIGINAL before presize option\n",
    "dls_covid = ImageDataLoaders.from_folder(path_covid, train='train', valid_pct=.2, seed=42,\n",
    "                                   shuffle_train=True, item_tfms=Resize(224,  method='squish'),\n",
    "                                   bs=bs, batch_tfms=[*aug_transforms(do_flip=True, flip_vert=True, mult=2.0),\n",
    "                                                      Normalize.from_stats(*imagenet_stats)])"
   ]
  },
  {
   "cell_type": "code",
   "execution_count": null,
   "metadata": {},
   "outputs": [],
   "source": [
    "# create a learner for pneumonia, then load parameters from previous training\n",
    "learn_pneu = cnn_learner(dls_pneu, resnet34, metrics=[error_rate, accuracy], loss_func=F.cross_entropy).to_fp16()\n",
    "learn_pneu.load('/home/jupyter/.fastai/data/chest_xray/models/stage-1-res34-pretrained')"
   ]
  },
  {
   "cell_type": "code",
   "execution_count": null,
   "metadata": {},
   "outputs": [],
   "source": [
    "# convert the last layer from 2 classes to 3 for covid labels\n",
    "learn_pneu.model[-1][-1] = nn.Linear(in_features=512, out_features=3, bias=False)"
   ]
  },
  {
   "cell_type": "code",
   "execution_count": null,
   "metadata": {},
   "outputs": [],
   "source": [
    "# confirm last layer has correct out_features\n",
    "learn_pneu.model[-1]"
   ]
  },
  {
   "cell_type": "code",
   "execution_count": null,
   "metadata": {},
   "outputs": [],
   "source": [
    "# save model\n",
    "learn_pneu.save('stage_1_class2to3')"
   ]
  },
  {
   "cell_type": "code",
   "execution_count": null,
   "metadata": {},
   "outputs": [],
   "source": [
    "# create a learner for covid data \n",
    "learn_covid = cnn_learner(dls_covid, resnet34, metrics=[error_rate, accuracy]).to_fp16()"
   ]
  },
  {
   "cell_type": "code",
   "execution_count": null,
   "metadata": {},
   "outputs": [],
   "source": [
    "# load model with last layer adjusted for 3 classes\n",
    "learn_covid.load('/home/jupyter/.fastai/data/chest_xray/models/stage_1_class2to3', strict=False)"
   ]
  },
  {
   "cell_type": "code",
   "execution_count": null,
   "metadata": {},
   "outputs": [],
   "source": [
    "# freeze layers except for the last. Find learning rate to use for few epochs\n",
    "learn_covid.freeze()\n",
    "lr_min, lr_steep = learn_covid.lr_find()\n",
    "print(f'minimum/10 : {lr_min:.2e}, steep : {lr_steep: .2e}')"
   ]
  },
  {
   "cell_type": "code",
   "execution_count": null,
   "metadata": {},
   "outputs": [],
   "source": [
    "learn_covid.fit_one_cycle(4, lr_max=slice(3e-3, 1e-2)) # might have ran this twice, notebook froze"
   ]
  },
  {
   "cell_type": "code",
   "execution_count": null,
   "metadata": {},
   "outputs": [],
   "source": [
    "# unfreeze rest of the layers, identify learning rate for whole model\n",
    "learn_covid.unfreeze()\n",
    "lr_min, lr_steep = learn_covid.lr_find()\n",
    "print(f'minimum/10 : {lr_min:.2e}, steepness : {lr_steep:.2e}')"
   ]
  },
  {
   "cell_type": "code",
   "execution_count": null,
   "metadata": {},
   "outputs": [],
   "source": [
    "# train all layers of the model\n",
    "learn_covid.fit_one_cycle(14, lr_max=1e-4)"
   ]
  },
  {
   "cell_type": "code",
   "execution_count": null,
   "metadata": {},
   "outputs": [],
   "source": [
    "# validate model performance\n",
    "interp = ClassificationInterpretation.from_learner(learn_covid)\n",
    "interp.plot_confusion_matrix()"
   ]
  },
  {
   "cell_type": "code",
   "execution_count": null,
   "metadata": {},
   "outputs": [],
   "source": [
    "# plot top losses\n",
    "interp.plot_top_losses(3, nrows=1, figsize=(25,5))"
   ]
  },
  {
   "cell_type": "code",
   "execution_count": null,
   "metadata": {},
   "outputs": [],
   "source": [
    "# save the weights\n",
    "learn_covid.save('stage-2-covid-detection')"
   ]
  },
  {
   "cell_type": "code",
   "execution_count": null,
   "metadata": {},
   "outputs": [],
   "source": [
    "# serialize and export the model\n",
    "learn_covid.export(fname='covid_export.pkl')"
   ]
  },
  {
   "cell_type": "code",
   "execution_count": null,
   "metadata": {},
   "outputs": [],
   "source": []
  }
 ],
 "metadata": {
  "environment": {
   "name": "pytorch-gpu.1-4.m55",
   "type": "gcloud",
   "uri": "gcr.io/deeplearning-platform-release/pytorch-gpu.1-4:m55"
  },
  "kernelspec": {
   "display_name": "Python 3",
   "language": "python",
   "name": "python3"
  },
  "language_info": {
   "codemirror_mode": {
    "name": "ipython",
    "version": 3
   },
   "file_extension": ".py",
   "mimetype": "text/x-python",
   "name": "python",
   "nbconvert_exporter": "python",
   "pygments_lexer": "ipython3",
   "version": "3.7.6"
  }
 },
 "nbformat": 4,
 "nbformat_minor": 4
}
